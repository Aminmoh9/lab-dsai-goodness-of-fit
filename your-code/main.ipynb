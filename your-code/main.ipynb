{
 "cells": [
  {
   "cell_type": "markdown",
   "metadata": {},
   "source": [
    "# Lab | Goodness of Fit and Independence Tests\n",
    "\n",
    "## Question 1\n",
    "A researcher gathers information about the patterns of Physical Activity of children in the fifth grade of primary school of a public school. He defines three categories of physical activity (Low, Medium, High). He also inquires about the regular consumption of sugary drinks at school, and defines two categories (Yes = consumed, No = not consumed). We would like to evaluate if there is an association between patterns of physical activity and the consumption of sugary drinks for the children of this school, at a level of 5% significance. The results are in the following table: \n",
    "\n",
    "![](https://education-team-2020.s3.eu-west-1.amazonaws.com/ds-ai/lab-goodness-of-fit/table4.png)"
   ]
  },
  {
   "cell_type": "code",
   "execution_count": 21,
   "metadata": {},
   "outputs": [
    {
     "data": {
      "text/html": [
       "<div>\n",
       "<style scoped>\n",
       "    .dataframe tbody tr th:only-of-type {\n",
       "        vertical-align: middle;\n",
       "    }\n",
       "\n",
       "    .dataframe tbody tr th {\n",
       "        vertical-align: top;\n",
       "    }\n",
       "\n",
       "    .dataframe thead th {\n",
       "        text-align: right;\n",
       "    }\n",
       "</style>\n",
       "<table border=\"1\" class=\"dataframe\">\n",
       "  <thead>\n",
       "    <tr style=\"text-align: right;\">\n",
       "      <th></th>\n",
       "      <th>Physical Activity</th>\n",
       "      <th>Yes</th>\n",
       "      <th>No</th>\n",
       "    </tr>\n",
       "  </thead>\n",
       "  <tbody>\n",
       "    <tr>\n",
       "      <th>0</th>\n",
       "      <td>Low</td>\n",
       "      <td>32</td>\n",
       "      <td>12</td>\n",
       "    </tr>\n",
       "    <tr>\n",
       "      <th>1</th>\n",
       "      <td>Medium</td>\n",
       "      <td>14</td>\n",
       "      <td>22</td>\n",
       "    </tr>\n",
       "    <tr>\n",
       "      <th>2</th>\n",
       "      <td>High</td>\n",
       "      <td>6</td>\n",
       "      <td>9</td>\n",
       "    </tr>\n",
       "  </tbody>\n",
       "</table>\n",
       "</div>"
      ],
      "text/plain": [
       "  Physical Activity  Yes  No\n",
       "0               Low   32  12\n",
       "1            Medium   14  22\n",
       "2              High    6   9"
      ]
     },
     "execution_count": 21,
     "metadata": {},
     "output_type": "execute_result"
    }
   ],
   "source": [
    "# your answer here\n",
    "import numpy as np\n",
    "import pandas as pd\n",
    "import scipy.stats as stats\n",
    "\n",
    "# Observed frequencies\n",
    "data = {'Physical Activity': ['Low', 'Medium', 'High'],\n",
    "        'Yes': [32, 14, 6],  # Sugary drinks consumed\n",
    "        'No': [12, 22, 9]}   # Sugary drinks not consumed\n",
    "\n",
    "#Creating the dataframe\n",
    "df = pd.DataFrame(data)\n",
    "df.head()"
   ]
  },
  {
   "cell_type": "code",
   "execution_count": 22,
   "metadata": {},
   "outputs": [
    {
     "name": "stdout",
     "output_type": "stream",
     "text": [
      "Chi-Square Statistic: 10.712198008709638\n",
      "P-value: 0.004719280137040844\n",
      "Degrees of Freedom: 2\n",
      "\n",
      "Expected Frequencies:\n",
      "              Yes         No\n",
      "Low     24.084211  19.915789\n",
      "Medium  19.705263  16.294737\n",
      "High     8.210526   6.789474\n"
     ]
    }
   ],
   "source": [
    "# Converting dataframe to Contigency table\n",
    "observed= df[['Yes', 'No']].values\n",
    "\n",
    "# Chi_square test\n",
    "chi2_stat, p_value, dof, expected = stats.chi2_contingency(observed)\n",
    "\n",
    "print(f\"Chi-Square Statistic: {chi2_stat}\")\n",
    "print(f\"P-value: {p_value}\")\n",
    "print(f\"Degrees of Freedom: {dof}\")\n",
    "print(\"\\nExpected Frequencies:\")\n",
    "print(pd.DataFrame(expected, columns=['Yes', 'No'], index=['Low', 'Medium', 'High']))"
   ]
  },
  {
   "cell_type": "code",
   "execution_count": 23,
   "metadata": {},
   "outputs": [
    {
     "name": "stdout",
     "output_type": "stream",
     "text": [
      "Reject the null hypothesis: There is a statistically significant association between physical activity levels and sugary drink consumption.\n",
      "Children's physical activity patterns are not independent of sugary drink consumption.\n"
     ]
    }
   ],
   "source": [
    "# Conclusion\n",
    "if p_value < 0.05:\n",
    "    print(\"Reject the null hypothesis: There is a statistically significant association between physical activity levels and sugary drink consumption.\")\n",
    "    print(\"Children's physical activity patterns are not independent of sugary drink consumption.\")\n",
    "else:\n",
    "    print(\"Fail to reject the null hypothesis: No significant association between physical activity levels and sugary drink consumption.\")"
   ]
  },
  {
   "cell_type": "markdown",
   "metadata": {},
   "source": [
    "## [OPTIONAL] Question 2\n",
    "The following table indicates the number of 6-point scores in an American rugby match in the 1979 season.\n",
    "\n",
    "![](https://education-team-2020.s3.eu-west-1.amazonaws.com/ds-ai/lab-goodness-of-fit/table1.png)\n",
    "\n",
    "Based on these results, we create a Poisson distribution with the sample mean parameter  = 2.435. Is there any reason to believe that at a .05 level the number of scores is a Poisson variable?\n",
    "\n",
    "Check [here](https://www.geeksforgeeks.org/how-to-create-a-poisson-probability-mass-function-plot-in-python/) how to create a poisson distribution and how to calculate the expected observations, using the probability mass function (pmf). \n",
    "A Poisson distribution is a discrete probability distribution. It gives the probability of an event happening a certain number of times (k) within a given interval of time or space. The Poisson distribution has only one parameter, λ (lambda), which is the mean number of events."
   ]
  },
  {
   "cell_type": "code",
   "execution_count": null,
   "metadata": {},
   "outputs": [
    {
     "name": "stdout",
     "output_type": "stream",
     "text": [
      "   Scores  Observed    Expected\n",
      "0       0        35   39.243791\n",
      "1       1        99   95.558630\n",
      "2       2       104  116.342632\n",
      "3       3       110   94.431437\n",
      "4       4        62   57.485137\n",
      "5       5        25   27.995262\n",
      "6       6        10   11.361410\n",
      "7       7         3    5.581701\n",
      "\n",
      "Chi-Square Statistic: 6.491310681109821\n",
      "P-value: 0.4836889068537269\n",
      "\n",
      "Failed to reject the null hypothesis → The data fits a Poisson distribution.\n"
     ]
    }
   ],
   "source": [
    "# your answer here\n",
    "# Given data\n",
    "observed_counts = [35, 99, 104, 110, 62, 25, 10, 3]\n",
    "total= 448\n",
    "lambda_mean = 2.435\n",
    "\n",
    "# Defining k values (0-7)\n",
    "k_values = np.arange(len(observed_counts))\n",
    "\n",
    "#Poisson expected probabilities\n",
    "expected_probs = stats.poisson.pmf(k_values, mu=lambda_mean)\n",
    "\n",
    "# Adjusting last category (7 or more) by summing remaining probabilities\n",
    "expected_probs[-1] = 1 - expected_probs[:-1].sum()\n",
    "\n",
    "# Expected frequencies\n",
    "expected_counts = expected_probs * total\n",
    "\n",
    "#Chi-square test\n",
    "chi2_stat, p_value = stats.chisquare(f_obs=observed_counts, f_exp=expected_counts)\n",
    "\n",
    "# Creating DataFrame for clarity\n",
    "df = pd.DataFrame({'Scores': k_values, 'Observed': observed_counts, 'Expected': expected_counts})\n",
    "print(df)\n",
    "print(f\"\\nChi-Square Statistic: {chi2_stat}\")\n",
    "print(f\"P-value: {p_value}\")\n",
    "\n",
    "\n",
    "# Conclusion\n",
    "if p_value < 0.05:\n",
    "    print(\"\\nReject the null hypothesis → The data does NOT follow a Poisson distribution.\")\n",
    "else:\n",
    "    print(\"\\nFailed to reject the null hypothesis → The data fits a Poisson distribution.\")"
   ]
  }
 ],
 "metadata": {
  "kernelspec": {
   "display_name": "base",
   "language": "python",
   "name": "python3"
  },
  "language_info": {
   "codemirror_mode": {
    "name": "ipython",
    "version": 3
   },
   "file_extension": ".py",
   "mimetype": "text/x-python",
   "name": "python",
   "nbconvert_exporter": "python",
   "pygments_lexer": "ipython3",
   "version": "3.12.7"
  }
 },
 "nbformat": 4,
 "nbformat_minor": 2
}
